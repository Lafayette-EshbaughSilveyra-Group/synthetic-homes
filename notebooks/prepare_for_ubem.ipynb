{
 "cells": [
  {
   "cell_type": "code",
   "execution_count": 2,
   "id": "0482d55b",
   "metadata": {},
   "outputs": [],
   "source": [
    "import uuid\n",
    "import json\n",
    "from os import path\n",
    "from datetime import datetime, timedelta"
   ]
  },
  {
   "cell_type": "code",
   "execution_count": 3,
   "id": "a696f281",
   "metadata": {},
   "outputs": [],
   "source": [
    "def clean_gpt_geojson(gpt_output):\n",
    "  def safe_int(val):\n",
    "    try:\n",
    "        return int(str(val).replace(\",\", \"\").strip())\n",
    "    except:\n",
    "        return None\n",
    "\n",
    "  # Get today's date and 1 year prior\n",
    "  end_date = datetime.now()\n",
    "  begin_date = end_date - timedelta(days=365)\n",
    "\n",
    "  # Format in ISO8601 with Zulu time (UTC)\n",
    "  begin_date_str = begin_date.strftime('%Y-%m-%dT00:00:00Z')\n",
    "  end_date_str = end_date.strftime('%Y-%m-%dT00:00:00Z')\n",
    "\n",
    "  # Create final geojson object\n",
    "  full_geojson = {\n",
    "      \"type\": \"FeatureCollection\",\n",
    "      \"mappers\": [],\n",
    "      \"project\": {\n",
    "          \"id\": str(uuid.uuid4()),\n",
    "          \"name\": \"Generated Project\",\n",
    "          \"begin_date\": begin_date_str,\n",
    "          \"end_date\": end_date_str,\n",
    "          \"cec_climate_zone\": None,\n",
    "          \"climate_zone\": \"4A\",\n",
    "          \"default_template\": \"90.1-2013\",\n",
    "          \"import_surrounding_buildings_as_shading\": None,\n",
    "          \"surface_elevation\": None,\n",
    "          \"tariff_filename\": None,\n",
    "          \"timesteps_per_hour\": 1,\n",
    "          \"weather_filename\": \"weather.epw\"\n",
    "      },\n",
    "      \"scenarios\": [\n",
    "          {\n",
    "              \"feature_mappings\": [],\n",
    "              \"id\": str(uuid.uuid4()),\n",
    "              \"name\": \"Base Scenario\"\n",
    "          }\n",
    "      ],\n",
    "      \"features\": [\n",
    "          {\n",
    "              \"type\": \"Feature\",\n",
    "              \"properties\": {\n",
    "                  \"id\": str(uuid.uuid4()),\n",
    "                  \"name\": \"Generated Home\",\n",
    "                  \"type\": \"Building\",\n",
    "                  \"building_type\": \"Single family\",\n",
    "                  \"floor_area\": safe_int(gpt_output[\"geojson\"][\"properties\"].get(\"Total Square Feet Living Area\")),\n",
    "                  \"number_of_stories\": safe_int(gpt_output[\"geojson\"][\"properties\"].get(\"Number of Stories\")),\n",
    "                  \"inspection_note\": gpt_output[\"inspection_note\"],\n",
    "                  **gpt_output[\"geojson\"][\"properties\"]\n",
    "              },\n",
    "              \"geometry\": gpt_output[\"geojson\"][\"geometry\"]\n",
    "          }\n",
    "      ]\n",
    "  }\n",
    "\n",
    "  return full_geojson"
   ]
  },
  {
   "cell_type": "code",
   "execution_count": 5,
   "id": "565db488",
   "metadata": {},
   "outputs": [
    {
     "name": "stdout",
     "output_type": "stream",
     "text": [
      "Successfully cleaned GPT GeoJSON output.\n"
     ]
    }
   ],
   "source": [
    "home = 'dataset/RAMBEAU_RD_15'\n",
    "\n",
    "with open(path.join(home, 'preprocessed.json'), 'r') as f:\n",
    "  gpt_output = json.load(f)\n",
    "  cleaned = clean_gpt_geojson(gpt_output)\n",
    "\n",
    "  with open(path.join(home, 'cleaned.geojson'), 'w') as out:\n",
    "    json.dump(cleaned, out)\n",
    "\n",
    "print(\"Successfully cleaned GPT GeoJSON output.\")\n"
   ]
  },
  {
   "cell_type": "code",
   "execution_count": null,
   "id": "c3dd2218",
   "metadata": {},
   "outputs": [],
   "source": [
    "# TODO: Loop Through Dataset"
   ]
  }
 ],
 "metadata": {
  "kernelspec": {
   "display_name": ".venv",
   "language": "python",
   "name": "python3"
  },
  "language_info": {
   "codemirror_mode": {
    "name": "ipython",
    "version": 3
   },
   "file_extension": ".py",
   "mimetype": "text/x-python",
   "name": "python",
   "nbconvert_exporter": "python",
   "pygments_lexer": "ipython3",
   "version": "3.13.3"
  }
 },
 "nbformat": 4,
 "nbformat_minor": 5
}
