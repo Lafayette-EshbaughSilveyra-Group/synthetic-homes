{
 "cells": [
  {
   "cell_type": "markdown",
   "id": "42e23597",
   "metadata": {},
   "source": [
    "# Dataset Generation Part 4: Assembling & Labeling the Data\n",
    "\n",
    "In this part, we'll finalize the dataset. We'll proceed by:\n",
    "\n",
    "1. Gathering the EnergyPlus results into an URBANopt like `results.json`\n",
    "2. Using ChatGPT to label the data (not 1s or 0s, but recommendation \"levels\"):\n",
    "\n",
    "$$\\left[ \\text{insulation}, \\text{windows}, \\text{HVAC}, \\text{seal} \\right]$$"
   ]
  },
  {
   "cell_type": "code",
   "execution_count": 1,
   "id": "12e031bb",
   "metadata": {},
   "outputs": [
    {
     "name": "stdout",
     "output_type": "stream",
     "text": [
      "Requirement already satisfied: openai in ./.venv/lib/python3.13/site-packages (1.86.0)\n",
      "Requirement already satisfied: pandas in ./.venv/lib/python3.13/site-packages (2.3.0)\n",
      "Requirement already satisfied: dotenv in ./.venv/lib/python3.13/site-packages (0.9.9)\n",
      "Requirement already satisfied: anyio<5,>=3.5.0 in ./.venv/lib/python3.13/site-packages (from openai) (4.9.0)\n",
      "Requirement already satisfied: distro<2,>=1.7.0 in ./.venv/lib/python3.13/site-packages (from openai) (1.9.0)\n",
      "Requirement already satisfied: httpx<1,>=0.23.0 in ./.venv/lib/python3.13/site-packages (from openai) (0.28.1)\n",
      "Requirement already satisfied: jiter<1,>=0.4.0 in ./.venv/lib/python3.13/site-packages (from openai) (0.10.0)\n",
      "Requirement already satisfied: pydantic<3,>=1.9.0 in ./.venv/lib/python3.13/site-packages (from openai) (2.11.5)\n",
      "Requirement already satisfied: sniffio in ./.venv/lib/python3.13/site-packages (from openai) (1.3.1)\n",
      "Requirement already satisfied: tqdm>4 in ./.venv/lib/python3.13/site-packages (from openai) (4.67.1)\n",
      "Requirement already satisfied: typing-extensions<5,>=4.11 in ./.venv/lib/python3.13/site-packages (from openai) (4.13.2)\n",
      "Requirement already satisfied: idna>=2.8 in ./.venv/lib/python3.13/site-packages (from anyio<5,>=3.5.0->openai) (3.10)\n",
      "Requirement already satisfied: certifi in ./.venv/lib/python3.13/site-packages (from httpx<1,>=0.23.0->openai) (2025.4.26)\n",
      "Requirement already satisfied: httpcore==1.* in ./.venv/lib/python3.13/site-packages (from httpx<1,>=0.23.0->openai) (1.0.9)\n",
      "Requirement already satisfied: h11>=0.16 in ./.venv/lib/python3.13/site-packages (from httpcore==1.*->httpx<1,>=0.23.0->openai) (0.16.0)\n",
      "Requirement already satisfied: annotated-types>=0.6.0 in ./.venv/lib/python3.13/site-packages (from pydantic<3,>=1.9.0->openai) (0.7.0)\n",
      "Requirement already satisfied: pydantic-core==2.33.2 in ./.venv/lib/python3.13/site-packages (from pydantic<3,>=1.9.0->openai) (2.33.2)\n",
      "Requirement already satisfied: typing-inspection>=0.4.0 in ./.venv/lib/python3.13/site-packages (from pydantic<3,>=1.9.0->openai) (0.4.1)\n",
      "Requirement already satisfied: numpy>=1.26.0 in ./.venv/lib/python3.13/site-packages (from pandas) (2.3.1)\n",
      "Requirement already satisfied: python-dateutil>=2.8.2 in ./.venv/lib/python3.13/site-packages (from pandas) (2.9.0.post0)\n",
      "Requirement already satisfied: pytz>=2020.1 in ./.venv/lib/python3.13/site-packages (from pandas) (2025.2)\n",
      "Requirement already satisfied: tzdata>=2022.7 in ./.venv/lib/python3.13/site-packages (from pandas) (2025.2)\n",
      "Requirement already satisfied: python-dotenv in ./.venv/lib/python3.13/site-packages (from dotenv) (1.1.0)\n",
      "Requirement already satisfied: six>=1.5 in ./.venv/lib/python3.13/site-packages (from python-dateutil>=2.8.2->pandas) (1.17.0)\n",
      "Note: you may need to restart the kernel to use updated packages.\n"
     ]
    }
   ],
   "source": [
    "%pip install openai pandas dotenv"
   ]
  },
  {
   "cell_type": "code",
   "execution_count": 2,
   "id": "ea8e33a9",
   "metadata": {},
   "outputs": [],
   "source": [
    "import pandas as pd\n",
    "import json\n",
    "from openai import OpenAI\n",
    "from dotenv import load_dotenv\n",
    "\n",
    "load_dotenv()\n",
    "\n",
    "client = OpenAI()"
   ]
  },
  {
   "cell_type": "markdown",
   "id": "f2c6f49a",
   "metadata": {},
   "source": [
    "## 1. Compile `results.json`"
   ]
  },
  {
   "cell_type": "code",
   "execution_count": 3,
   "id": "3328b8da",
   "metadata": {},
   "outputs": [],
   "source": [
    "def extract_results_from_csv(home_dir: str) -> dict:\n",
    "    \"\"\"\n",
    "    Extracts summary statistics and hourly zone temperatures from an EnergyPlus CSV output.\n",
    "\n",
    "    Parameters:\n",
    "        home_dir (str): Name of the home (i.e., RAMBEAU_RD_15)\n",
    "\n",
    "    Returns:\n",
    "        dict: Structured dictionary of zone-level features.\n",
    "    \"\"\"\n",
    "    df = pd.read_csv(f\"dataset/{home_dir}/simulation_output/eplusout.csv\")\n",
    "\n",
    "    # Normalize column names\n",
    "    mean_air_col = \"MAINZONE:Zone Mean Air Temperature [C](Hourly)\"\n",
    "    air_col = \"MAINZONE:Zone Air Temperature [C](Hourly) \"\n",
    "    \n",
    "    def compute_stats(series):\n",
    "        return {\n",
    "            \"average\": round(series.mean(), 3),\n",
    "            \"min\": round(series.min(), 3),\n",
    "            \"max\": round(series.max(), 3),\n",
    "            \"hourly\": [round(x, 3) for x in series.tolist()]\n",
    "        }\n",
    "\n",
    "    return {\n",
    "        \"zone\": \"MAINZONE\",\n",
    "        \"features\": {\n",
    "            \"mean_air_temperature\": compute_stats(df[mean_air_col]),\n",
    "            \"air_temperature\": compute_stats(df[air_col])\n",
    "        }\n",
    "    }"
   ]
  },
  {
   "cell_type": "markdown",
   "id": "51aeef6a",
   "metadata": {},
   "source": [
    "## 2. Label Data with OpenAI API"
   ]
  },
  {
   "cell_type": "code",
   "execution_count": 13,
   "id": "512e67f9",
   "metadata": {},
   "outputs": [],
   "source": [
    "def label_data(results_json, inspection_report, home_dir_name):\n",
    "  \"\"\"\n",
    "  Uses OpenAI API to label a datapoint based on its results.json and inspection report.\n",
    "  \"\"\"\n",
    "\n",
    "  def build_prompt(results_json: dict, inspection_report: str) -> str:\n",
    "    return f\"\"\"\n",
    "You are an expert building energy analyst.\n",
    "\n",
    "Below is structured simulation data for a building, followed by a narrative inspection report.\n",
    "\n",
    "Your task is to assign a **confidence score** in the range [0, 1] for the **need** for each of the following retrofits:\n",
    "- Insulation upgrade\n",
    "- Window upgrade\n",
    "- HVAC upgrade\n",
    "- Sealing\n",
    "\n",
    "A value of 0 means \"definitely not needed\". A value of 1 means \"definitely needed\". Intermediate values (e.g. 0.33, 0.5, 0.75) indicate uncertainty or partial need. Use your judgment to assign realistic values based solely on the data and report.\n",
    "\n",
    "### SIMULATION DATA (JSON):\n",
    "{json.dumps(results_json, indent=2)}\n",
    "\n",
    "### INSPECTION REPORT (free text):\n",
    "\\\"\\\"\\\"\n",
    "{inspection_report}\n",
    "\\\"\\\"\\\"\n",
    "\n",
    "### RESPONSE FORMAT:\n",
    "Return a JSON object like:\n",
    "{{\n",
    "  \"insulation\": 0.5,\n",
    "  \"windows\": 0.0,\n",
    "  \"hvac\": 1.0,\n",
    "  \"sealing\": 0.25\n",
    "}}\n",
    "\n",
    "Only include the JSON. No explanation or commentary.\n",
    "\"\"\"\n",
    "  \n",
    "  prompt = build_prompt(results_json, inspection_report)\n",
    "    \n",
    "  response = client.chat.completions.create(\n",
    "        model=\"gpt-4\",\n",
    "        messages=[{\"role\": \"user\", \"content\": prompt}],\n",
    "        temperature=0.2\n",
    "    )\n",
    "  \n",
    "  content = response.choices[0].message.content\n",
    "  \n",
    "  try:\n",
    "    label_path = f\"dataset/{home_dir_name}/label.json\"\n",
    "    with open(label_path, \"w\") as f:\n",
    "        json.dump(json.loads(content), f, indent=2)\n",
    "  except json.JSONDecodeError:\n",
    "    raise ValueError(f\"Failed to parse model response:\\n{content}\")\n"
   ]
  },
  {
   "cell_type": "code",
   "execution_count": 14,
   "id": "7a71ac4a",
   "metadata": {},
   "outputs": [],
   "source": [
    "def process_results(home_dir_name):\n",
    "  results_json = extract_results_from_csv(home_dir_name)\n",
    "  json.dump(results_json, open(f'dataset/{home_dir_name}/results.json', 'w'))\n",
    "\n",
    "  inspection_note = json.load(open(f'dataset/{home_dir_name}/cleaned.geojson', 'r'))[\"features\"][0][\"properties\"][\"inspection_note\"]\n",
    "\n",
    "  label_data(results_json, inspection_note, home_dir_name)"
   ]
  },
  {
   "cell_type": "markdown",
   "id": "0b6a3a4e",
   "metadata": {},
   "source": [
    "## 3. Test\n",
    "\n",
    "Now, we'll test this pipeline with one example (`RAMBEAU_RD_15`)"
   ]
  },
  {
   "cell_type": "code",
   "execution_count": 15,
   "id": "e9d04dbc",
   "metadata": {},
   "outputs": [],
   "source": [
    "process_results('RAMBEAU_RD_15')"
   ]
  }
 ],
 "metadata": {
  "kernelspec": {
   "display_name": ".venv",
   "language": "python",
   "name": "python3"
  },
  "language_info": {
   "codemirror_mode": {
    "name": "ipython",
    "version": 3
   },
   "file_extension": ".py",
   "mimetype": "text/x-python",
   "name": "python",
   "nbconvert_exporter": "python",
   "pygments_lexer": "ipython3",
   "version": "3.13.3"
  }
 },
 "nbformat": 4,
 "nbformat_minor": 5
}
