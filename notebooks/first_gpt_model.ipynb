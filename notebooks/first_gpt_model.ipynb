{
 "cells": [
  {
   "cell_type": "markdown",
   "id": "f50786fc",
   "metadata": {},
   "source": [
    "# First GPT Model\n",
    "\n",
    "This GPT model (prompt engineered) takes County Assessor data and gives `geojson` and home inspection notes as an output."
   ]
  },
  {
   "cell_type": "code",
   "execution_count": 1,
   "id": "1e65b29b",
   "metadata": {},
   "outputs": [
    {
     "name": "stdout",
     "output_type": "stream",
     "text": [
      "Requirement already satisfied: openai in ./.venv/lib/python3.13/site-packages (1.86.0)\n",
      "Requirement already satisfied: anyio<5,>=3.5.0 in ./.venv/lib/python3.13/site-packages (from openai) (4.9.0)\n",
      "Requirement already satisfied: distro<2,>=1.7.0 in ./.venv/lib/python3.13/site-packages (from openai) (1.9.0)\n",
      "Requirement already satisfied: httpx<1,>=0.23.0 in ./.venv/lib/python3.13/site-packages (from openai) (0.28.1)\n",
      "Requirement already satisfied: jiter<1,>=0.4.0 in ./.venv/lib/python3.13/site-packages (from openai) (0.10.0)\n",
      "Requirement already satisfied: pydantic<3,>=1.9.0 in ./.venv/lib/python3.13/site-packages (from openai) (2.11.5)\n",
      "Requirement already satisfied: sniffio in ./.venv/lib/python3.13/site-packages (from openai) (1.3.1)\n",
      "Requirement already satisfied: tqdm>4 in ./.venv/lib/python3.13/site-packages (from openai) (4.67.1)\n",
      "Requirement already satisfied: typing-extensions<5,>=4.11 in ./.venv/lib/python3.13/site-packages (from openai) (4.13.2)\n",
      "Requirement already satisfied: idna>=2.8 in ./.venv/lib/python3.13/site-packages (from anyio<5,>=3.5.0->openai) (3.10)\n",
      "Requirement already satisfied: certifi in ./.venv/lib/python3.13/site-packages (from httpx<1,>=0.23.0->openai) (2025.4.26)\n",
      "Requirement already satisfied: httpcore==1.* in ./.venv/lib/python3.13/site-packages (from httpx<1,>=0.23.0->openai) (1.0.9)\n",
      "Requirement already satisfied: h11>=0.16 in ./.venv/lib/python3.13/site-packages (from httpcore==1.*->httpx<1,>=0.23.0->openai) (0.16.0)\n",
      "Requirement already satisfied: annotated-types>=0.6.0 in ./.venv/lib/python3.13/site-packages (from pydantic<3,>=1.9.0->openai) (0.7.0)\n",
      "Requirement already satisfied: pydantic-core==2.33.2 in ./.venv/lib/python3.13/site-packages (from pydantic<3,>=1.9.0->openai) (2.33.2)\n",
      "Requirement already satisfied: typing-inspection>=0.4.0 in ./.venv/lib/python3.13/site-packages (from pydantic<3,>=1.9.0->openai) (0.4.1)\n"
     ]
    }
   ],
   "source": [
    "!pip install openai"
   ]
  },
  {
   "cell_type": "code",
   "execution_count": 7,
   "id": "1537bc10",
   "metadata": {},
   "outputs": [],
   "source": [
    "from openai import OpenAI\n",
    "import base64\n",
    "import json\n",
    "from dotenv import load_dotenv\n",
    "from os import path"
   ]
  },
  {
   "cell_type": "code",
   "execution_count": 8,
   "id": "4e4e07ae",
   "metadata": {},
   "outputs": [],
   "source": [
    "# Initialize OpenAI\n",
    "\n",
    "load_dotenv()\n",
    "client = OpenAI()"
   ]
  },
  {
   "cell_type": "code",
   "execution_count": 9,
   "id": "b45ef160",
   "metadata": {},
   "outputs": [],
   "source": [
    "def encode_image(filepath):\n",
    "    with open(filepath, \"rb\") as f:\n",
    "        return base64.b64encode(f.read()).decode('utf-8')"
   ]
  },
  {
   "cell_type": "code",
   "execution_count": 10,
   "id": "bce86305",
   "metadata": {},
   "outputs": [],
   "source": [
    "def generate_geojson_and_note(house_data, image_path, model=\"gpt-4o\"):\n",
    "    image_base64 = encode_image(image_path)\n",
    "    \n",
    "    # ----- Prompt Setup -----\n",
    "    prompt = f\"\"\"\n",
    "You are a certified **home energy inspection expert** and data specialist working on a project to generate synthetic inspection reports for single-family homes. You are helping build a training set for a home efficiency AI model.\n",
    "\n",
    "You are given:\n",
    "- Structured residential property data in JSON format\n",
    "- A photo of the exterior of the home\n",
    "\n",
    "Use these to generate two outputs:\n",
    "1. A **GeoJSON Feature** with a fictional but plausible (longitude, latitude) location in Pennsylvania. Populate `\"properties\"` using the provided JSON fields:\n",
    "   - \"Year Built\"\n",
    "   - \"Total Square Feet Living Area\"\n",
    "   - \"Building Style\"\n",
    "   - \"Exterior Wall Material\"\n",
    "   - \"Heating Fuel Type\"\n",
    "   - \"Heating System Type\"\n",
    "   - \"Heat/Air Cond\"\n",
    "   - \"Bedrooms\"\n",
    "   - \"Full Baths\"\n",
    "   - \"Half Baths\"\n",
    "   - \"Basement\"\n",
    "   - \"Number of Stories\"\n",
    "   - \"Grade\"\n",
    "\n",
    "2. A short **inspection note** written as if you had just walked around the home. Focus on energy-related characteristics: insulation, HVAC age/type, visible window quality, age, materials, and any notable upgrades or issues you can infer from the attributes or image.\n",
    "\n",
    "Here is the structured property data:\n",
    "\n",
    "{json.dumps(house_data)}\n",
    "\n",
    "Return a single raw JSON object, like this:\n",
    "\n",
    "{{\n",
    "  \"geojson\": {{ ... }},\n",
    "  \"inspection_note\": \"...\"\n",
    "}}\n",
    "\n",
    "Output **only valid JSON**, no backticks or explanation.\n",
    "\"\"\"\n",
    "    # ----- API Call -----\n",
    "    \n",
    "    response = client.chat.completions.create(\n",
    "    model=\"gpt-4o\",\n",
    "    messages=[\n",
    "        {\n",
    "            \"role\": \"user\",\n",
    "            \"content\": [\n",
    "                {\"type\": \"text\", \"text\": prompt},\n",
    "                {\"type\": \"image_url\", \"image_url\": {\"url\": f\"data:image/jpeg;base64,{image_base64}\"}}\n",
    "            ]\n",
    "        }\n",
    "    ],\n",
    "    temperature=0.7\n",
    ")\n",
    "\n",
    "    # ----- Parse -----\n",
    "    \n",
    "    reply = response.choices[0].message.content\n",
    "    return json.loads(reply)"
   ]
  },
  {
   "cell_type": "code",
   "execution_count": 11,
   "id": "55c1ec1c",
   "metadata": {},
   "outputs": [],
   "source": [
    "# Test with one home\n",
    "\n",
    "home = 'dataset/RAMBEAU_RD_15'\n",
    "\n",
    "with open(path.join(home, 'data.json'), 'r') as f:\n",
    "  house_data = json.load(f)\n",
    "\n",
    "result = generate_geojson_and_note(house_data, path.join(home, 'photo_1.jpg'))"
   ]
  },
  {
   "cell_type": "code",
   "execution_count": 12,
   "id": "e616d088",
   "metadata": {},
   "outputs": [
    {
     "data": {
      "text/plain": [
       "{'geojson': {'type': 'Feature',\n",
       "  'geometry': {'type': 'Point', 'coordinates': [-75.1652, 40.0052]},\n",
       "  'properties': {'Year Built': '1989',\n",
       "   'Total Square Feet Living Area': '2,576',\n",
       "   'Building Style': 'COLONIAL',\n",
       "   'Exterior Wall Material': 'ALUMINUM/VINYL SIDING',\n",
       "   'Heating Fuel Type': 'ELECTRIC',\n",
       "   'Heating System Type': 'WARM AIR',\n",
       "   'Heat/Air Cond': 'AIR COND',\n",
       "   'Bedrooms': '4',\n",
       "   'Full Baths': '2',\n",
       "   'Half Baths': '1',\n",
       "   'Basement': 'FULL',\n",
       "   'Number of Stories': '2',\n",
       "   'Grade': 'B - GOOD'}},\n",
       " 'inspection_note': \"The home appears to be in good condition with aluminum/vinyl siding that is well-maintained. The windows look relatively modern, suggesting they may have been updated to improve energy efficiency. The heating system is electric warm air with air conditioning, likely providing efficient climate control. The full basement could be a source of heat loss if not properly insulated. Overall, the home's exterior and materials suggest it is well-suited for energy conservation, though further inspection of the HVAC system's age and efficiency is recommended.\"}"
      ]
     },
     "execution_count": 12,
     "metadata": {},
     "output_type": "execute_result"
    }
   ],
   "source": [
    "result"
   ]
  },
  {
   "cell_type": "code",
   "execution_count": 13,
   "id": "8d32d923",
   "metadata": {},
   "outputs": [],
   "source": [
    "with open(path.join(home, 'preprocessed.json'), 'w') as f:\n",
    "  json.dump(result, f)"
   ]
  },
  {
   "cell_type": "code",
   "execution_count": null,
   "id": "068737f2",
   "metadata": {},
   "outputs": [],
   "source": [
    "# TODO: Loop Through Dataset"
   ]
  }
 ],
 "metadata": {
  "kernelspec": {
   "display_name": ".venv",
   "language": "python",
   "name": "python3"
  },
  "language_info": {
   "codemirror_mode": {
    "name": "ipython",
    "version": 3
   },
   "file_extension": ".py",
   "mimetype": "text/x-python",
   "name": "python",
   "nbconvert_exporter": "python",
   "pygments_lexer": "ipython3",
   "version": "3.13.3"
  }
 },
 "nbformat": 4,
 "nbformat_minor": 5
}
